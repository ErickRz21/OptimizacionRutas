{
 "cells": [
  {
   "cell_type": "code",
   "execution_count": 294,
   "id": "9f0a85f8",
   "metadata": {},
   "outputs": [],
   "source": [
    "import numpy as np, random, operator, pandas as pd, matplotlib.pyplot as plt"
   ]
  },
  {
   "cell_type": "code",
   "execution_count": 295,
   "id": "db237cb4",
   "metadata": {},
   "outputs": [],
   "source": [
    "class City:\n",
    "    def __init__(self, x, y):\n",
    "        self.x = x\n",
    "        self.y = y\n",
    "    \n",
    "    def distance(self, city):\n",
    "        xDis = abs(self.x - city.x)\n",
    "        yDis = abs(self.y - city.y)\n",
    "        distance = np.sqrt((xDis ** 2) + (yDis ** 2))\n",
    "        return distance\n",
    "    \n",
    "    def __repr__(self):\n",
    "        return \"(\" + str(self.x) + \",\" + str(self.y) + \")\""
   ]
  },
  {
   "cell_type": "code",
   "execution_count": 296,
   "id": "5f0da8fd",
   "metadata": {},
   "outputs": [],
   "source": [
    "class Fitness:\n",
    "    def __init__(self, route):\n",
    "        self.route = route\n",
    "        self.distance = 0\n",
    "        self.fitness= 0.0\n",
    "    \n",
    "    def routeDistance(self):\n",
    "        if self.distance ==0:\n",
    "            pathDistance = 0\n",
    "            for i in range(0, len(self.route)):\n",
    "                fromCity = self.route[i]\n",
    "                toCity = None\n",
    "                if i + 1 < len(self.route):\n",
    "                    toCity = self.route[i + 1]\n",
    "                else:\n",
    "                    toCity = self.route[0]\n",
    "                pathDistance += fromCity.distance(toCity)\n",
    "            self.distance = pathDistance\n",
    "        return self.distance\n",
    "    \n",
    "    def routeFitness(self):\n",
    "        if self.fitness == 0:\n",
    "            self.fitness = 1 / float(self.routeDistance())\n",
    "        return self.fitness"
   ]
  },
  {
   "cell_type": "code",
   "execution_count": 297,
   "id": "0c0c75ef",
   "metadata": {},
   "outputs": [],
   "source": [
    "def createRoute(cityList):\n",
    "    route = random.sample(cityList, len(cityList))\n",
    "    return route"
   ]
  },
  {
   "cell_type": "code",
   "execution_count": 298,
   "id": "b3e08642",
   "metadata": {},
   "outputs": [],
   "source": [
    "def initialPopulation(popSize, cityList):\n",
    "    population = []\n",
    "\n",
    "    for i in range(0, popSize):\n",
    "        population.append(createRoute(cityList))\n",
    "    return population"
   ]
  },
  {
   "cell_type": "code",
   "execution_count": 299,
   "id": "14d25d16",
   "metadata": {},
   "outputs": [],
   "source": [
    "def rankRoutes(population):\n",
    "    fitnessResults = {}\n",
    "    for i in range(0,len(population)):\n",
    "        fitnessResults[i] = Fitness(population[i]).routeFitness()\n",
    "    return sorted(fitnessResults.items(), key = operator.itemgetter(1), reverse = True)"
   ]
  },
  {
   "cell_type": "code",
   "execution_count": 300,
   "id": "9093d23f",
   "metadata": {},
   "outputs": [],
   "source": [
    "def selection(popRanked, eliteSize):\n",
    "    selectionResults = []\n",
    "    df = pd.DataFrame(np.array(popRanked), columns=[\"Index\",\"Fitness\"])\n",
    "    df['cum_sum'] = df.Fitness.cumsum()\n",
    "    df['cum_perc'] = 100*df.cum_sum/df.Fitness.sum()\n",
    "    \n",
    "    for i in range(0, eliteSize):\n",
    "        selectionResults.append(popRanked[i][0])\n",
    "    for i in range(0, len(popRanked) - eliteSize):\n",
    "        pick = 100*random.random()\n",
    "        for i in range(0, len(popRanked)):\n",
    "            if pick <= df.iat[i,3]:\n",
    "                selectionResults.append(popRanked[i][0])\n",
    "                break\n",
    "    return selectionResults"
   ]
  },
  {
   "cell_type": "code",
   "execution_count": 301,
   "id": "588859e0",
   "metadata": {},
   "outputs": [],
   "source": [
    "def matingPool(population, selectionResults):\n",
    "    matingpool = []\n",
    "    for i in range(0, len(selectionResults)):\n",
    "        index = selectionResults[i]\n",
    "        matingpool.append(population[index])\n",
    "    return matingpool"
   ]
  },
  {
   "cell_type": "code",
   "execution_count": 302,
   "id": "62b27e3c",
   "metadata": {},
   "outputs": [],
   "source": [
    "def breed(parent1, parent2):\n",
    "    child = []\n",
    "    childP1 = []\n",
    "    childP2 = []\n",
    "    \n",
    "    geneA = int(random.random() * len(parent1))\n",
    "    geneB = int(random.random() * len(parent1))\n",
    "    \n",
    "    startGene = min(geneA, geneB)\n",
    "    endGene = max(geneA, geneB)\n",
    "\n",
    "    for i in range(startGene, endGene):\n",
    "        childP1.append(parent1[i])\n",
    "        \n",
    "    childP2 = [item for item in parent2 if item not in childP1]\n",
    "\n",
    "    child = childP1 + childP2\n",
    "    return child"
   ]
  },
  {
   "cell_type": "code",
   "execution_count": 303,
   "id": "ddab6e41",
   "metadata": {},
   "outputs": [],
   "source": [
    "def breedPopulation(matingpool, eliteSize):\n",
    "    children = []\n",
    "    length = len(matingpool) - eliteSize\n",
    "    pool = random.sample(matingpool, len(matingpool))\n",
    "\n",
    "    for i in range(0,eliteSize):\n",
    "        children.append(matingpool[i])\n",
    "    \n",
    "    for i in range(0, length):\n",
    "        child = breed(pool[i], pool[len(matingpool)-i-1])\n",
    "        children.append(child)\n",
    "    return children"
   ]
  },
  {
   "cell_type": "code",
   "execution_count": 304,
   "id": "cb2502b5",
   "metadata": {},
   "outputs": [],
   "source": [
    "def mutate(individual, mutationRate):\n",
    "    for swapped in range(len(individual)):\n",
    "        if(random.random() < mutationRate):\n",
    "            swapWith = int(random.random() * len(individual))\n",
    "            \n",
    "            city1 = individual[swapped]\n",
    "            city2 = individual[swapWith]\n",
    "            \n",
    "            individual[swapped] = city2\n",
    "            individual[swapWith] = city1\n",
    "    return individual"
   ]
  },
  {
   "cell_type": "code",
   "execution_count": 305,
   "id": "a478d710",
   "metadata": {},
   "outputs": [],
   "source": [
    "def mutatePopulation(population, mutationRate):\n",
    "    mutatedPop = []\n",
    "    \n",
    "    for ind in range(0, len(population)):\n",
    "        mutatedInd = mutate(population[ind], mutationRate)\n",
    "        mutatedPop.append(mutatedInd)\n",
    "    return mutatedPop"
   ]
  },
  {
   "cell_type": "code",
   "execution_count": 306,
   "id": "b417f3ca",
   "metadata": {},
   "outputs": [],
   "source": [
    "def nextGeneration(currentGen, eliteSize, mutationRate):\n",
    "    popRanked = rankRoutes(currentGen)\n",
    "    selectionResults = selection(popRanked, eliteSize)\n",
    "    matingpool = matingPool(currentGen, selectionResults)\n",
    "    children = breedPopulation(matingpool, eliteSize)\n",
    "    nextGeneration = mutatePopulation(children, mutationRate)\n",
    "    return nextGeneration"
   ]
  },
  {
   "cell_type": "code",
   "execution_count": 307,
   "id": "465c7c7a",
   "metadata": {},
   "outputs": [],
   "source": [
    "def geneticAlgorithm(population, popSize, eliteSize, mutationRate, generations):\n",
    "    pop = initialPopulation(popSize, population)\n",
    "    print(\"Distancia Inicial: \" + str(1 / rankRoutes(pop)[0][1]))\n",
    "    \n",
    "    for i in range(0, generations):\n",
    "        pop = nextGeneration(pop, eliteSize, mutationRate)\n",
    "    \n",
    "    print(\"Distancia Final: \" + str(1 / rankRoutes(pop)[0][1]))\n",
    "    bestRouteIndex = rankRoutes(pop)[0][0]\n",
    "    bestRoute = pop[bestRouteIndex]\n",
    "    return bestRoute"
   ]
  },
  {
   "cell_type": "code",
   "execution_count": 308,
   "id": "aaa2d8e7",
   "metadata": {},
   "outputs": [],
   "source": [
    "cityList_A = []\n",
    "\n",
    "for i in range(0,30):\n",
    "    cityList_A.append(City(x=int(random.random() * 200), y=int(random.random() * 200)))"
   ]
  },
  {
   "cell_type": "code",
   "execution_count": 309,
   "id": "5eae2a76",
   "metadata": {},
   "outputs": [
    {
     "name": "stdout",
     "output_type": "stream",
     "text": [
      "Distancia Inicial: 2352.2076393270827\n",
      "Distancia Final: 1021.3302473112745\n",
      "\n",
      "Mejor ruta para el Problema A:\n"
     ]
    },
    {
     "data": {
      "text/plain": [
       "[(47,172),\n",
       " (69,180),\n",
       " (83,195),\n",
       " (58,127),\n",
       " (86,135),\n",
       " (142,162),\n",
       " (156,144),\n",
       " (173,120),\n",
       " (162,104),\n",
       " (198,90),\n",
       " (188,137),\n",
       " (173,143),\n",
       " (170,112),\n",
       " (167,124),\n",
       " (124,117),\n",
       " (125,88),\n",
       " (181,50),\n",
       " (188,40),\n",
       " (142,50),\n",
       " (137,41),\n",
       " (107,41),\n",
       " (114,53),\n",
       " (74,39),\n",
       " (83,20),\n",
       " (54,40),\n",
       " (44,20),\n",
       " (13,26),\n",
       " (37,20),\n",
       " (63,80),\n",
       " (39,120)]"
      ]
     },
     "execution_count": 309,
     "metadata": {},
     "output_type": "execute_result"
    }
   ],
   "source": [
    "bestRoute_A = geneticAlgorithm(population=cityList_A, popSize=100, eliteSize=15, mutationRate=0.01, generations=200)\n",
    "print(\"\\nMejor ruta para el Problema A:\")\n",
    "bestRoute_A"
   ]
  },
  {
   "cell_type": "code",
   "execution_count": 310,
   "id": "6bc41ce2",
   "metadata": {},
   "outputs": [],
   "source": [
    "cityList_B = []\n",
    "for i in range(0, 30): \n",
    "    cityList_B.append(City(x=int(random.random() * 200), y=int(random.random() * 200)))"
   ]
  },
  {
   "cell_type": "code",
   "execution_count": 311,
   "id": "742cade9",
   "metadata": {},
   "outputs": [
    {
     "name": "stdout",
     "output_type": "stream",
     "text": [
      "Distancia Inicial: 2533.6322794444673\n",
      "Distancia Final: 2133.5548653732035\n",
      "\n",
      "Mejor ruta para el Problema B:\n"
     ]
    },
    {
     "data": {
      "text/plain": [
       "[(153,105),\n",
       " (158,165),\n",
       " (76,154),\n",
       " (159,142),\n",
       " (71,73),\n",
       " (21,13),\n",
       " (25,12),\n",
       " (71,25),\n",
       " (4,190),\n",
       " (7,182),\n",
       " (52,53),\n",
       " (23,81),\n",
       " (85,187),\n",
       " (54,157),\n",
       " (6,149),\n",
       " (104,151),\n",
       " (181,130),\n",
       " (195,148),\n",
       " (154,162),\n",
       " (155,113),\n",
       " (150,110),\n",
       " (16,43),\n",
       " (58,60),\n",
       " (26,52),\n",
       " (170,1),\n",
       " (144,178),\n",
       " (164,99),\n",
       " (163,108),\n",
       " (110,87),\n",
       " (149,68)]"
      ]
     },
     "execution_count": 311,
     "metadata": {},
     "output_type": "execute_result"
    }
   ],
   "source": [
    "bestRoute_B = geneticAlgorithm(population=cityList_B, popSize=100, eliteSize=20, mutationRate=0.05, generations=400)\n",
    "print(\"\\nMejor ruta para el Problema B:\")\n",
    "bestRoute_B"
   ]
  },
  {
   "cell_type": "code",
   "execution_count": 312,
   "id": "bddabc60",
   "metadata": {},
   "outputs": [],
   "source": [
    "def geneticAlgorithmPlot(population, popSize, eliteSize, mutationRate, generations):\n",
    "    pop = initialPopulation(popSize, population)\n",
    "    progress = []\n",
    "    progress.append(1 / rankRoutes(pop)[0][1])\n",
    "    \n",
    "    for i in range(0, generations):\n",
    "        pop = nextGeneration(pop, eliteSize, mutationRate)\n",
    "        progress.append(1 / rankRoutes(pop)[0][1])\n",
    "    \n",
    "    plt.plot(progress)\n",
    "    plt.ylabel('Distance')\n",
    "    plt.xlabel('Generation')\n",
    "    plt.show()"
   ]
  },
  {
   "cell_type": "code",
   "execution_count": 313,
   "id": "f6ddf079",
   "metadata": {
    "scrolled": true
   },
   "outputs": [
    {
     "data": {
      "image/png": "[encoded data removed]",
      "text/plain": [
       "<Figure size 640x480 with 1 Axes>"
      ]
     },
     "metadata": {},
     "output_type": "display_data"
    }
   ],
   "source": [
    "geneticAlgorithmPlot(population=cityList_A, popSize=100, eliteSize=15, mutationRate=0.01, generations=200)"
   ]
  },
  {
   "cell_type": "code",
   "execution_count": 314,
   "id": "edb22546",
   "metadata": {},
   "outputs": [
    {
     "data": {
      "image/png": "[encoded data removed]",
      "text/plain": [
       "<Figure size 640x480 with 1 Axes>"
      ]
     },
     "metadata": {},
     "output_type": "display_data"
    }
   ],
   "source": [
    "geneticAlgorithmPlot(population=cityList_B, popSize=100, eliteSize=20, mutationRate=0.05, generations=400)"
   ]
  },
  {
   "cell_type": "code",
   "execution_count": 315,
   "id": "29d9c630",
   "metadata": {},
   "outputs": [],
   "source": [
    "def calcular_distancia_total(ruta):\n",
    "    distancia_total = 0\n",
    "    for i in range(len(ruta)):\n",
    "        fromCity = ruta[i]\n",
    "        toCity = ruta[(i + 1) % len(ruta)]  # Asegura el retorno a la ciudad de origen\n",
    "        distancia_total += fromCity.distance(toCity)\n",
    "    return distancia_total"
   ]
  },
  {
   "cell_type": "code",
   "execution_count": 316,
   "id": "1499252a",
   "metadata": {},
   "outputs": [],
   "source": [
    "def calcular_uso_combustible(bestRoute, eficiencia_combustible):\n",
    "    return bestRoute / eficiencia_combustible"
   ]
  },
  {
   "cell_type": "code",
   "execution_count": 317,
   "id": "95c465ad",
   "metadata": {},
   "outputs": [],
   "source": [
    "def calcular_tiempo_trayectoria(ruta, velocidad_promedio):\n",
    "    distancia_total = calcular_distancia_total(ruta)\n",
    "    tiempo_trayectoria = distancia_total / velocidad_promedio  # Tiempo = Distancia / Velocidad\n",
    "    return tiempo_trayectoria"
   ]
  },
  {
   "cell_type": "code",
   "execution_count": 318,
   "id": "a4ad453a",
   "metadata": {},
   "outputs": [],
   "source": [
    "# Asumiendo una eficiencia de combustible de 15 km/L para el vehículo\n",
    "eficiencia_combustible = 7\n",
    "velocidad_promedio = 120 # Asumiendo una velocidad promedio de 60 km/h"
   ]
  },
  {
   "cell_type": "code",
   "execution_count": 319,
   "id": "b2bd1b3e",
   "metadata": {},
   "outputs": [],
   "source": [
    "# Creación de comparaciones\n",
    "## Calcular tiempo de trayectoria\n",
    "tiempo_trayectoria_A = calcular_tiempo_trayectoria(bestRoute_A, velocidad_promedio)\n",
    "tiempo_trayectoria_B = calcular_tiempo_trayectoria(bestRoute_B, velocidad_promedio)\n",
    "\n",
    "## Calcular la distancia y combustible total para el Problema A\n",
    "distancia_total_A = calcular_distancia_total(bestRoute_A)\n",
    "uso_combustible_A = calcular_uso_combustible(distancia_total_A, eficiencia_combustible)\n",
    "\n",
    "# Calcular la distancia y bombustible total para el Problema B\n",
    "distancia_total_B = calcular_distancia_total(bestRoute_B)\n",
    "uso_combustible_B = calcular_uso_combustible(distancia_total_B, eficiencia_combustible)"
   ]
  },
  {
   "cell_type": "code",
   "execution_count": 320,
   "id": "c6861aea",
   "metadata": {
    "scrolled": true
   },
   "outputs": [
    {
     "name": "stdout",
     "output_type": "stream",
     "text": [
      "Resultados Ruta A:\n",
      "Tiempo de Trayectoria A: 8.51 horas\n",
      "Distancia Total para el Problema A: 1021.33 km\n",
      "Uso Estimado de Combustible para el Problema A: 145.90 L\n",
      "\n",
      "Resultados Ruta B:\n",
      "Tiempo de Trayectoria B: 17.78 horas\n",
      "Distancia Total para el Problema B: 2133.55 km\n",
      "Uso Estimado de Combustible para el Problema B: 304.79 L\n"
     ]
    }
   ],
   "source": [
    "#Muestra de comparaciones\n",
    "\n",
    "##Resultados Ruta A:\n",
    "print(\"Resultados Ruta A:\")\n",
    "print(\"Tiempo de Trayectoria A: {:.2f} horas\".format(tiempo_trayectoria_A))\n",
    "print(\"Distancia Total para el Problema A: {:.2f} km\".format(distancia_total_A))\n",
    "print(\"Uso Estimado de Combustible para el Problema A: {:.2f} L\".format(uso_combustible_A))\n",
    "\n",
    "\n",
    "##Resultados Ruta B:\n",
    "print(\"\\nResultados Ruta B:\")\n",
    "print(\"Tiempo de Trayectoria B: {:.2f} horas\".format(tiempo_trayectoria_B))\n",
    "print(\"Distancia Total para el Problema B: {:.2f} km\".format(distancia_total_B))\n",
    "print(\"Uso Estimado de Combustible para el Problema B: {:.2f} L\".format(uso_combustible_B))\n",
    "\n"
   ]
  },
  {
   "cell_type": "code",
   "execution_count": null,
   "id": "c1182ed9",
   "metadata": {},
   "outputs": [],
   "source": []
  }
 ],
 "metadata": {
  "kernelspec": {
   "display_name": "Python 3 (ipykernel)",
   "language": "python",
   "name": "python3"
  },
  "language_info": {
   "codemirror_mode": {
    "name": "ipython",
    "version": 3
   },
   "file_extension": ".py",
   "mimetype": "text/x-python",
   "name": "python",
   "nbconvert_exporter": "python",
   "pygments_lexer": "ipython3",
   "version": "3.10.9"
  }
 },
 "nbformat": 4,
 "nbformat_minor": 5
}
